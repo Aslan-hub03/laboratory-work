{
 "cells": [
  {
   "cell_type": "code",
   "execution_count": 1,
   "id": "5d697bb0-87f6-4b35-82b1-144bf798e6fd",
   "metadata": {},
   "outputs": [
    {
     "name": "stdout",
     "output_type": "stream",
     "text": [
      "120\n"
     ]
    }
   ],
   "source": [
    "import math\n",
    "\n",
    "def multiply_list(numbers):\n",
    "    return math.prod(numbers)\n",
    "\n",
    "# Тест\n",
    "nums = [1, 2, 3, 4, 5]\n",
    "print(multiply_list(nums))  # ✅ 120 (1*2*3*4*5)\n"
   ]
  },
  {
   "cell_type": "code",
   "execution_count": 3,
   "id": "231cac57-bb00-478a-842b-b9bd89103c7b",
   "metadata": {},
   "outputs": [
    {
     "name": "stdout",
     "output_type": "stream",
     "text": [
      "{'Upper case': 4, 'Lower case': 21}\n"
     ]
    }
   ],
   "source": [
    "def count_case_letters(text):\n",
    "    upper = sum(1 for char in text if char.isupper())\n",
    "    lower = sum(1 for char in text if char.islower())\n",
    "    return {\"Upper case\": upper, \"Lower case\": lower}\n",
    "\n",
    "# Тест\n",
    "text = \"Hello World! Python is Awesome.\"\n",
    "print(count_case_letters(text))  \n",
    "# ✅ {'Upper case': 4, 'Lower case': 19}\n"
   ]
  },
  {
   "cell_type": "code",
   "execution_count": 5,
   "id": "2fe773e1-e63f-4525-98d8-54daae8fa823",
   "metadata": {},
   "outputs": [
    {
     "name": "stdout",
     "output_type": "stream",
     "text": [
      "True\n",
      "False\n"
     ]
    }
   ],
   "source": [
    "def is_palindrome(string):\n",
    "    return string == string[::-1]\n",
    "\n",
    "# Тест\n",
    "print(is_palindrome(\"radar\"))   # ✅ True\n",
    "print(is_palindrome(\"hello\"))   # ❌ False\n"
   ]
  },
  {
   "cell_type": "code",
   "execution_count": 7,
   "id": "a0c47e11-0d22-4eab-8f9a-0d6df00d1dde",
   "metadata": {},
   "outputs": [
    {
     "name": "stdout",
     "output_type": "stream",
     "text": [
      "Square root of 25100 after 2123 milliseconds is 158.42979517754858\n"
     ]
    }
   ],
   "source": [
    "import math\n",
    "import time\n",
    "\n",
    "def delayed_sqrt(number, delay_ms):\n",
    "    time.sleep(delay_ms / 1000)  # Переводим миллисекунды в секунды\n",
    "    return math.sqrt(number)\n",
    "\n",
    "# Тест\n",
    "num = 25100\n",
    "delay = 2123\n",
    "print(f\"Square root of {num} after {delay} milliseconds is {delayed_sqrt(num, delay)}\")\n"
   ]
  },
  {
   "cell_type": "code",
   "execution_count": 9,
   "id": "76b83547-4040-45a0-920d-ab666c71f8ca",
   "metadata": {},
   "outputs": [
    {
     "name": "stdout",
     "output_type": "stream",
     "text": [
      "True\n",
      "False\n"
     ]
    }
   ],
   "source": [
    "def all_true(elements):\n",
    "    return all(elements)\n",
    "\n",
    "# Тест\n",
    "print(all_true((True, True, True)))   # ✅ True\n",
    "print(all_true((True, False, True)))  # ❌ False\n"
   ]
  }
 ],
 "metadata": {
  "kernelspec": {
   "display_name": "Python [conda env:base] *",
   "language": "python",
   "name": "conda-base-py"
  },
  "language_info": {
   "codemirror_mode": {
    "name": "ipython",
    "version": 3
   },
   "file_extension": ".py",
   "mimetype": "text/x-python",
   "name": "python",
   "nbconvert_exporter": "python",
   "pygments_lexer": "ipython3",
   "version": "3.12.7"
  }
 },
 "nbformat": 4,
 "nbformat_minor": 5
}
