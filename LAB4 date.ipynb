{
 "cells": [
  {
   "cell_type": "code",
   "execution_count": 1,
   "id": "c00aef75-8680-4e21-830b-460c62ec053d",
   "metadata": {},
   "outputs": [
    {
     "name": "stdout",
     "output_type": "stream",
     "text": [
      "Current Date: 2025-02-19\n",
      "Date 5 days ago: 2025-02-14\n"
     ]
    }
   ],
   "source": [
    "from datetime import datetime, timedelta\n",
    "\n",
    "# Текущая дата\n",
    "current_date = datetime.now()\n",
    "\n",
    "# Вычитаем 5 дней\n",
    "new_date = current_date - timedelta(days=5)\n",
    "\n",
    "print(\"Current Date:\", current_date.strftime(\"%Y-%m-%d\"))\n",
    "print(\"Date 5 days ago:\", new_date.strftime(\"%Y-%m-%d\"))\n"
   ]
  },
  {
   "cell_type": "code",
   "execution_count": 3,
   "id": "3a66fbfc-0d40-4b23-a847-c01203004a8b",
   "metadata": {},
   "outputs": [
    {
     "name": "stdout",
     "output_type": "stream",
     "text": [
      "Yesterday: 2025-02-18\n",
      "Today: 2025-02-19\n",
      "Tomorrow: 2025-02-20\n"
     ]
    }
   ],
   "source": [
    "from datetime import datetime, timedelta\n",
    "\n",
    "# Сегодня\n",
    "today = datetime.now()\n",
    "\n",
    "# Вчера и завтра\n",
    "yesterday = today - timedelta(days=1)\n",
    "tomorrow = today + timedelta(days=1)\n",
    "\n",
    "print(\"Yesterday:\", yesterday.strftime(\"%Y-%m-%d\"))\n",
    "print(\"Today:\", today.strftime(\"%Y-%m-%d\"))\n",
    "print(\"Tomorrow:\", tomorrow.strftime(\"%Y-%m-%d\"))\n"
   ]
  },
  {
   "cell_type": "code",
   "execution_count": 5,
   "id": "8cc39a25-b553-467e-a5e4-971d4b28d257",
   "metadata": {},
   "outputs": [
    {
     "name": "stdout",
     "output_type": "stream",
     "text": [
      "Original Datetime: 2025-02-19 22:58:09.363158\n",
      "Datetime without Microseconds: 2025-02-19 22:58:09\n"
     ]
    }
   ],
   "source": [
    "from datetime import datetime\n",
    "\n",
    "# Текущее время\n",
    "now = datetime.now()\n",
    "\n",
    "# Убираем микросекунды\n",
    "no_microseconds = now.replace(microsecond=0)\n",
    "\n",
    "print(\"Original Datetime:\", now)\n",
    "print(\"Datetime without Microseconds:\", no_microseconds)\n"
   ]
  },
  {
   "cell_type": "code",
   "execution_count": 7,
   "id": "c443b55d-169c-4fe5-b8ce-bbc0b8bbc687",
   "metadata": {},
   "outputs": [
    {
     "name": "stdout",
     "output_type": "stream",
     "text": [
      "Difference in seconds: 786600\n"
     ]
    }
   ],
   "source": [
    "from datetime import datetime\n",
    "\n",
    "# Две даты\n",
    "date1 = datetime(2024, 2, 10, 12, 0, 0)  # 10 февраля 2024, 12:00:00\n",
    "date2 = datetime(2024, 2, 19, 14, 30, 0) # 19 февраля 2024, 14:30:00\n",
    "\n",
    "# Вычисляем разницу в секундах\n",
    "difference = (date2 - date1).total_seconds()\n",
    "\n",
    "print(\"Difference in seconds:\", int(difference))\n"
   ]
  },
  {
   "cell_type": "code",
   "execution_count": null,
   "id": "2871627b-5b37-4f3b-91f7-1ab4cddf8615",
   "metadata": {},
   "outputs": [],
   "source": []
  }
 ],
 "metadata": {
  "kernelspec": {
   "display_name": "Python [conda env:base] *",
   "language": "python",
   "name": "conda-base-py"
  },
  "language_info": {
   "codemirror_mode": {
    "name": "ipython",
    "version": 3
   },
   "file_extension": ".py",
   "mimetype": "text/x-python",
   "name": "python",
   "nbconvert_exporter": "python",
   "pygments_lexer": "ipython3",
   "version": "3.12.7"
  }
 },
 "nbformat": 4,
 "nbformat_minor": 5
}
