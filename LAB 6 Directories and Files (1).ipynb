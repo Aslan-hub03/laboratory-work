{
 "cells": [
  {
   "cell_type": "code",
   "execution_count": 33,
   "id": "b163397f-c582-400d-803c-d5ffc2d3c881",
   "metadata": {},
   "outputs": [
    {
     "name": "stdout",
     "output_type": "stream",
     "text": [
      "Directory and file list saved to C:\\Users\\USER\\Desktop\\ex1.txt\n"
     ]
    }
   ],
   "source": [
    "import os\n",
    "\n",
    "def list_contents(path, output_file):\n",
    "    directories = [d for d in os.listdir(path) if os.path.isdir(os.path.join(path, d))]\n",
    "    files = [f for f in os.listdir(path) if os.path.isfile(os.path.join(path, f))]\n",
    "    all_items = os.listdir(path)\n",
    "\n",
    "    with open(output_file, \"w\", encoding=\"utf-8\") as f:\n",
    "        f.write(\"Directories:\\n\" + \"\\n\".join(directories) + \"\\n\\n\")\n",
    "        f.write(\"Files:\\n\" + \"\\n\".join(files) + \"\\n\\n\")\n",
    "        f.write(\"All Items:\\n\" + \"\\n\".join(all_items) + \"\\n\")\n",
    "\n",
    "# Путь к папке, которую проверяем\n",
    "target_path = r\"C:\\Users\\USER\\Desktop\"\n",
    "file_path = r\"C:\\Users\\USER\\Desktop\\ex1.txt\"\n",
    "\n",
    "# Запускаем\n",
    "list_contents(target_path, file_path)\n",
    "print(f\"Directory and file list saved to {file_path}\")\n"
   ]
  },
  {
   "cell_type": "code",
   "execution_count": 35,
   "id": "a3a49c86-3277-4e2c-b1fa-669e46f05093",
   "metadata": {},
   "outputs": [
    {
     "name": "stdout",
     "output_type": "stream",
     "text": [
      "Access info saved to C:\\Users\\USER\\Desktop\\ex2.txt\n"
     ]
    }
   ],
   "source": [
    "import os\n",
    "\n",
    "def check_access(path, output_file):\n",
    "    with open(output_file, \"w\", encoding=\"utf-8\") as f:\n",
    "        f.write(f\"Path exists: {os.path.exists(path)}\\n\")\n",
    "        f.write(f\"Readable: {os.access(path, os.R_OK)}\\n\")\n",
    "        f.write(f\"Writable: {os.access(path, os.W_OK)}\\n\")\n",
    "        f.write(f\"Executable: {os.access(path, os.X_OK)}\\n\")\n",
    "\n",
    "# Проверяем доступ к рабочему столу\n",
    "target_path = r\"C:\\Users\\USER\\Desktop\"\n",
    "file_path = r\"C:\\Users\\USER\\Desktop\\ex2.txt\"\n",
    "\n",
    "# Запускаем\n",
    "check_access(target_path, file_path)\n",
    "print(f\"Access info saved to {file_path}\")\n"
   ]
  },
  {
   "cell_type": "code",
   "execution_count": 37,
   "id": "c1572a57-b97c-4637-bf4d-4dc96e0dff84",
   "metadata": {},
   "outputs": [
    {
     "name": "stdout",
     "output_type": "stream",
     "text": [
      "Path info saved to C:\\Users\\USER\\Desktop\\ex3.txt\n"
     ]
    }
   ],
   "source": [
    "import os\n",
    "\n",
    "def path_info(path, output_file):\n",
    "    with open(output_file, \"w\", encoding=\"utf-8\") as f:\n",
    "        if os.path.exists(path):\n",
    "            f.write(\"Path exists ✅\\n\")\n",
    "            f.write(f\"Directory: {os.path.dirname(path)}\\n\")\n",
    "            f.write(f\"Filename: {os.path.basename(path)}\\n\")\n",
    "        else:\n",
    "            f.write(\"Path does not exist ❌\\n\")\n",
    "\n",
    "# Проверяем путь к файлу (например, `ex2.txt`)\n",
    "target_path = r\"C:\\Users\\USER\\Desktop\\ex2.txt\"\n",
    "file_path = r\"C:\\Users\\USER\\Desktop\\ex3.txt\"\n",
    "\n",
    "# Запускаем\n",
    "path_info(target_path, file_path)\n",
    "print(f\"Path info saved to {file_path}\")\n"
   ]
  },
  {
   "cell_type": "code",
   "execution_count": 11,
   "id": "8aa00642-4e9e-4700-8087-d520a5072165",
   "metadata": {},
   "outputs": [
    {
     "name": "stdout",
     "output_type": "stream",
     "text": [
      "Total lines: 4\n"
     ]
    }
   ],
   "source": [
    "def count_lines(file_path):\n",
    "    with open(file_path, \"r\", encoding=\"utf-8\") as f:\n",
    "        return sum(1 for _ in f)\n",
    "\n",
    "# Указываем полный путь к файлу\n",
    "file_path = r\"C:\\Users\\USER\\Desktop\\ex4.txt\"  \n",
    "print(f\"Total lines: {count_lines(file_path)}\")\n"
   ]
  },
  {
   "cell_type": "code",
   "execution_count": 19,
   "id": "81fe74dd-7a95-4fe1-acd2-7d0f0044c88c",
   "metadata": {},
   "outputs": [
    {
     "name": "stdout",
     "output_type": "stream",
     "text": [
      "List saved to C:\\Users\\USER\\Desktop\\ex5.txt\n"
     ]
    }
   ],
   "source": [
    "def write_list_to_file(file_path, data):\n",
    "    with open(file_path, \"w\", encoding=\"utf-8\") as f:\n",
    "        f.writelines(\"\\n\".join(data))  # Каждое слово — на новой строке\n",
    "\n",
    "# Указываем путь к файлу\n",
    "file_path = r\"C:\\Users\\USER\\Desktop\\ex5.txt\"\n",
    "data = [\"Apple\", \"Banana\", \"Cherry\"]\n",
    "\n",
    "write_list_to_file(file_path, data)\n",
    "print(f\"List saved to {file_path}\")\n"
   ]
  },
  {
   "cell_type": "code",
   "execution_count": 23,
   "id": "491ddf8d-680a-49cf-ba16-4bd7d417c4a3",
   "metadata": {},
   "outputs": [
    {
     "name": "stdout",
     "output_type": "stream",
     "text": [
      "26 files (A-Z) saved in C:\\Users\\USER\\Desktop\\ex6\n"
     ]
    }
   ],
   "source": [
    "import os\n",
    "import string\n",
    "\n",
    "# Путь к уже существующей папке\n",
    "folder_path = r\"C:\\Users\\USER\\Desktop\\ex6\"\n",
    "\n",
    "def create_alphabet_files(folder):\n",
    "    for letter in string.ascii_uppercase:  # \"A\" - \"Z\"\n",
    "        file_path = os.path.join(folder, f\"{letter}.txt\")  # Полный путь к файлу\n",
    "        with open(file_path, \"w\", encoding=\"utf-8\") as f:\n",
    "            f.write(f\"This is file {letter}.txt\")  # Записываем текст\n",
    "\n",
    "# Запускаем функцию\n",
    "create_alphabet_files(folder_path)\n",
    "print(f\"26 files (A-Z) saved in {folder_path}\")\n"
   ]
  },
  {
   "cell_type": "code",
   "execution_count": 25,
   "id": "607846b0-9ab2-4018-97d4-5e65d7b9727b",
   "metadata": {},
   "outputs": [
    {
     "name": "stdout",
     "output_type": "stream",
     "text": [
      "File copied from C:\\Users\\USER\\Desktop\\ex5.txt to C:\\Users\\USER\\Desktop\\ex7.txt\n"
     ]
    }
   ],
   "source": [
    "def copy_file(source_path, destination_path):\n",
    "    with open(source_path, \"r\", encoding=\"utf-8\") as src, open(destination_path, \"w\", encoding=\"utf-8\") as dest:\n",
    "        dest.write(src.read())  # Читаем весь текст из ex5.txt и записываем в ex7.txt\n",
    "\n",
    "# Указываем пути к файлам\n",
    "source_path = r\"C:\\Users\\USER\\Desktop\\ex5.txt\"\n",
    "destination_path = r\"C:\\Users\\USER\\Desktop\\ex7.txt\"\n",
    "\n",
    "# Копируем файл\n",
    "copy_file(source_path, destination_path)\n",
    "print(f\"File copied from {source_path} to {destination_path}\")\n"
   ]
  },
  {
   "cell_type": "code",
   "execution_count": 31,
   "id": "800b2f30-9f0a-487d-bde6-b26e24885d77",
   "metadata": {},
   "outputs": [
    {
     "name": "stdout",
     "output_type": "stream",
     "text": [
      "File C:\\Users\\USER\\Desktop\\ex8.txt deleted ✅\n"
     ]
    }
   ],
   "source": [
    "import os\n",
    "\n",
    "def delete_file(file_path):\n",
    "    if os.path.exists(file_path):  # Проверяем, существует ли файл\n",
    "        if os.access(file_path, os.W_OK):  # Проверяем, есть ли права на удаление\n",
    "            os.remove(file_path)  # Удаляем файл\n",
    "            print(f\"File {file_path} deleted ✅\")\n",
    "        else:\n",
    "            print(f\"No permission to delete {file_path} ❌\")\n",
    "    else:\n",
    "        print(f\"File {file_path} does not exist ❌\")\n",
    "\n",
    "# Указываем путь к файлу\n",
    "file_path = r\"C:\\Users\\USER\\Desktop\\ex8.txt\"\n",
    "\n",
    "# Удаляем файл\n",
    "delete_file(file_path)\n"
   ]
  }
 ],
 "metadata": {
  "kernelspec": {
   "display_name": "Python [conda env:base] *",
   "language": "python",
   "name": "conda-base-py"
  },
  "language_info": {
   "codemirror_mode": {
    "name": "ipython",
    "version": 3
   },
   "file_extension": ".py",
   "mimetype": "text/x-python",
   "name": "python",
   "nbconvert_exporter": "python",
   "pygments_lexer": "ipython3",
   "version": "3.12.7"
  }
 },
 "nbformat": 4,
 "nbformat_minor": 5
}
