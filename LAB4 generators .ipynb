{
 "cells": [
  {
   "cell_type": "code",
   "execution_count": 1,
   "id": "ed070bf7-29cd-4c25-8af4-58888bcf949f",
   "metadata": {},
   "outputs": [
    {
     "name": "stdin",
     "output_type": "stream",
     "text": [
      "Enter N:  5\n"
     ]
    },
    {
     "name": "stdout",
     "output_type": "stream",
     "text": [
      "0 1 4 9 16 "
     ]
    }
   ],
   "source": [
    "def square_generator(n):\n",
    "    for i in range(n):\n",
    "        yield i ** 2  # Возвращаем квадрат числа\n",
    "\n",
    "# Пример использования\n",
    "N = int(input(\"Enter N: \"))\n",
    "for num in square_generator(N):\n",
    "    print(num, end=\" \")\n"
   ]
  },
  {
   "cell_type": "code",
   "execution_count": 3,
   "id": "3efd5d00-b9d4-473f-b36d-ca48d612824a",
   "metadata": {},
   "outputs": [
    {
     "name": "stdin",
     "output_type": "stream",
     "text": [
      "Enter N:  10\n"
     ]
    },
    {
     "name": "stdout",
     "output_type": "stream",
     "text": [
      "0,2,4,6,8,10\n"
     ]
    }
   ],
   "source": [
    "def even_numbers(n):\n",
    "    for i in range(0, n + 1, 2):\n",
    "        yield str(i)  # Превращаем число в строку для join()\n",
    "\n",
    "N = int(input(\"Enter N: \"))\n",
    "print(\",\".join(even_numbers(N)))\n"
   ]
  },
  {
   "cell_type": "code",
   "execution_count": 5,
   "id": "e6b57e1a-6c37-47ab-9899-c318720c6508",
   "metadata": {},
   "outputs": [
    {
     "name": "stdin",
     "output_type": "stream",
     "text": [
      "Enter N:  50\n"
     ]
    },
    {
     "name": "stdout",
     "output_type": "stream",
     "text": [
      "[0, 12, 24, 36, 48]\n"
     ]
    }
   ],
   "source": [
    "def divisible_by_3_and_4(n):\n",
    "    for i in range(n + 1):\n",
    "        if i % 3 == 0 and i % 4 == 0:\n",
    "            yield i\n",
    "\n",
    "N = int(input(\"Enter N: \"))\n",
    "print(list(divisible_by_3_and_4(N)))  # Выводим список значений\n"
   ]
  },
  {
   "cell_type": "code",
   "execution_count": 7,
   "id": "225c7625-6c18-4a8d-96ae-64a1454e9ed9",
   "metadata": {},
   "outputs": [
    {
     "name": "stdin",
     "output_type": "stream",
     "text": [
      "Enter A:  3\n",
      "Enter B:  7\n"
     ]
    },
    {
     "name": "stdout",
     "output_type": "stream",
     "text": [
      "9 16 25 36 49 "
     ]
    }
   ],
   "source": [
    "def squares(a, b):\n",
    "    for i in range(a, b + 1):\n",
    "        yield i ** 2\n",
    "\n",
    "A = int(input(\"Enter A: \"))\n",
    "B = int(input(\"Enter B: \"))\n",
    "\n",
    "for value in squares(A, B):\n",
    "    print(value, end=\" \")\n"
   ]
  },
  {
   "cell_type": "code",
   "execution_count": 9,
   "id": "496b5123-82ab-4243-942f-6a686733f6d4",
   "metadata": {},
   "outputs": [
    {
     "name": "stdin",
     "output_type": "stream",
     "text": [
      "Enter N:  5\n"
     ]
    },
    {
     "name": "stdout",
     "output_type": "stream",
     "text": [
      "[5, 4, 3, 2, 1, 0]\n"
     ]
    }
   ],
   "source": [
    "def countdown(n):\n",
    "    for i in range(n, -1, -1):\n",
    "        yield i\n",
    "\n",
    "N = int(input(\"Enter N: \"))\n",
    "print(list(countdown(N)))  # Выводим в виде списка\n"
   ]
  },
  {
   "cell_type": "code",
   "execution_count": null,
   "id": "32046f11-f7ac-4ef2-9937-6a4d5fcfb697",
   "metadata": {},
   "outputs": [],
   "source": []
  }
 ],
 "metadata": {
  "kernelspec": {
   "display_name": "Python [conda env:base] *",
   "language": "python",
   "name": "conda-base-py"
  },
  "language_info": {
   "codemirror_mode": {
    "name": "ipython",
    "version": 3
   },
   "file_extension": ".py",
   "mimetype": "text/x-python",
   "name": "python",
   "nbconvert_exporter": "python",
   "pygments_lexer": "ipython3",
   "version": "3.12.7"
  }
 },
 "nbformat": 4,
 "nbformat_minor": 5
}
