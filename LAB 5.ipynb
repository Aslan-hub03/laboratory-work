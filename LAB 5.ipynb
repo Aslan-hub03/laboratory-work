{
 "cells": [
  {
   "cell_type": "code",
   "execution_count": 1,
   "id": "4e18123e-0c6e-47a9-8e01-575f9133ac43",
   "metadata": {},
   "outputs": [
    {
     "name": "stdout",
     "output_type": "stream",
     "text": [
      "True\n",
      "True\n",
      "True\n",
      "False\n",
      "False\n"
     ]
    }
   ],
   "source": [
    "import re\n",
    "\n",
    "def match_a_b(string):\n",
    "    pattern = r\"ab*\"\n",
    "    return bool(re.fullmatch(pattern, string))\n",
    "\n",
    "# Тест\n",
    "print(match_a_b(\"a\"))      # ✅ True\n",
    "print(match_a_b(\"ab\"))     # ✅ True\n",
    "print(match_a_b(\"abb\"))    # ✅ True\n",
    "print(match_a_b(\"ac\"))     # ❌ False\n",
    "print(match_a_b(\"b\"))      # ❌ False\n"
   ]
  },
  {
   "cell_type": "code",
   "execution_count": 3,
   "id": "9469ffee-ea0f-4581-9804-d05d67735941",
   "metadata": {},
   "outputs": [
    {
     "name": "stdout",
     "output_type": "stream",
     "text": [
      "True\n",
      "True\n",
      "False\n",
      "False\n"
     ]
    }
   ],
   "source": [
    "import re\n",
    "\n",
    "def match_a_bb(string):\n",
    "    pattern = r\"ab{2,3}\"\n",
    "    return bool(re.fullmatch(pattern, string))\n",
    "\n",
    "# Тест\n",
    "print(match_a_bb(\"abb\"))    # ✅ True\n",
    "print(match_a_bb(\"abbb\"))   # ✅ True\n",
    "print(match_a_bb(\"ab\"))     # ❌ False\n",
    "print(match_a_bb(\"abbbb\"))  # ❌ False\n"
   ]
  },
  {
   "cell_type": "code",
   "execution_count": 5,
   "id": "c80ec9b8-92e7-485a-a35d-d1bdfa77821d",
   "metadata": {},
   "outputs": [
    {
     "name": "stdout",
     "output_type": "stream",
     "text": [
      "['hello_world', 'test_case']\n",
      "[]\n"
     ]
    }
   ],
   "source": [
    "import re\n",
    "\n",
    "def find_snake_case(string):\n",
    "    pattern = r\"[a-z]+_[a-z]+\"\n",
    "    return re.findall(pattern, string)\n",
    "\n",
    "# Тест\n",
    "print(find_snake_case(\"hello_world test_case\"))  # ✅ ['hello_world', 'test_case']\n",
    "print(find_snake_case(\"Hello_World\"))            # ❌ []\n"
   ]
  },
  {
   "cell_type": "code",
   "execution_count": 9,
   "id": "af2b54aa-8860-4d81-8b61-d8cb6fb0ed39",
   "metadata": {},
   "outputs": [
    {
     "name": "stdout",
     "output_type": "stream",
     "text": [
      "['Hello', 'World', 'Test']\n",
      "[]\n"
     ]
    }
   ],
   "source": [
    "import re\n",
    "\n",
    "def find_capitalized_word(string):\n",
    "    pattern = r\"[A-Z][a-z]+\"\n",
    "    return re.findall(pattern, string)\n",
    "\n",
    "# Тест\n",
    "print(find_capitalized_word(\"Hello World Test\"))  # ✅ ['Hello', 'World', 'Test']\n",
    "print(find_capitalized_word(\"hello world test\"))  # ❌ []\n"
   ]
  },
  {
   "cell_type": "code",
   "execution_count": 11,
   "id": "b2c235c1-d5ae-4e79-8b3e-3c8554015513",
   "metadata": {},
   "outputs": [
    {
     "name": "stdout",
     "output_type": "stream",
     "text": [
      "True\n",
      "True\n",
      "True\n",
      "True\n",
      "False\n"
     ]
    }
   ],
   "source": [
    "import re\n",
    "\n",
    "def match_a_anything_b(string):\n",
    "    pattern = r\"a.*b$\"\n",
    "    return bool(re.fullmatch(pattern, string))\n",
    "\n",
    "# Тест\n",
    "print(match_a_anything_b(\"a123b\"))   # ✅ True\n",
    "print(match_a_anything_b(\"ab\"))      # ✅ True\n",
    "print(match_a_anything_b(\"acb\"))     # ✅ True\n",
    "print(match_a_anything_b(\"aXYZb\"))   # ✅ True\n",
    "print(match_a_anything_b(\"b\"))       # ❌ False\n"
   ]
  },
  {
   "cell_type": "code",
   "execution_count": 13,
   "id": "1f83784b-8736-45e8-9acf-01ec9a66e767",
   "metadata": {},
   "outputs": [
    {
     "name": "stdout",
     "output_type": "stream",
     "text": [
      "Hello::world::Test!\n"
     ]
    }
   ],
   "source": [
    "import re\n",
    "\n",
    "def replace_special_chars(string):\n",
    "    pattern = r\"[ ,.]\" \n",
    "    return re.sub(pattern, \":\", string)\n",
    "\n",
    "# Тест\n",
    "print(replace_special_chars(\"Hello, world. Test!\"))  # ✅ Hello:world:Test!\n"
   ]
  },
  {
   "cell_type": "code",
   "execution_count": 15,
   "id": "4bbe5621-45e2-4ea6-a670-fd491fa7e368",
   "metadata": {},
   "outputs": [
    {
     "name": "stdout",
     "output_type": "stream",
     "text": [
      "helloWorld\n"
     ]
    }
   ],
   "source": [
    "import re\n",
    "\n",
    "def snake_to_camel(string):\n",
    "    pattern = r\"_([a-z])\"\n",
    "    return re.sub(pattern, lambda m: m.group(1).upper(), string)\n",
    "\n",
    "# Тест\n",
    "print(snake_to_camel(\"hello_world\"))  # ✅ HelloWorld\n"
   ]
  },
  {
   "cell_type": "code",
   "execution_count": 17,
   "id": "04cb1528-e78e-466f-bf97-1b50843ce3d7",
   "metadata": {},
   "outputs": [
    {
     "name": "stdout",
     "output_type": "stream",
     "text": [
      "['', 'Hello', 'World', 'Test']\n"
     ]
    }
   ],
   "source": [
    "import re\n",
    "\n",
    "def split_at_uppercase(string):\n",
    "    pattern = r\"(?=[A-Z])\"\n",
    "    return re.split(pattern, string)\n",
    "\n",
    "# Тест\n",
    "print(split_at_uppercase(\"HelloWorldTest\"))  # ✅ ['Hello', 'World', 'Test']\n"
   ]
  },
  {
   "cell_type": "code",
   "execution_count": 19,
   "id": "f3144ddc-66c0-4dcf-90b8-d760c76dd592",
   "metadata": {},
   "outputs": [
    {
     "name": "stdout",
     "output_type": "stream",
     "text": [
      "Hello World Test\n"
     ]
    }
   ],
   "source": [
    "import re\n",
    "\n",
    "def add_spaces(string):\n",
    "    pattern = r\"([A-Z])\"\n",
    "    return re.sub(pattern, r\" \\1\", string).strip()\n",
    "\n",
    "# Тест\n",
    "print(add_spaces(\"HelloWorldTest\"))  # ✅ Hello World Test\n"
   ]
  },
  {
   "cell_type": "code",
   "execution_count": 21,
   "id": "7e750224-9778-4e23-a193-8aa32720a54f",
   "metadata": {},
   "outputs": [
    {
     "name": "stdout",
     "output_type": "stream",
     "text": [
      "hello_world_test\n"
     ]
    }
   ],
   "source": [
    "import re\n",
    "\n",
    "def camel_to_snake(string):\n",
    "    pattern = r\"([A-Z])\"\n",
    "    return re.sub(pattern, r\"_\\1\", string).lower().strip(\"_\")\n",
    "\n",
    "# Тест\n",
    "print(camel_to_snake(\"HelloWorldTest\"))  # ✅ hello_world_test\n"
   ]
  },
  {
   "cell_type": "code",
   "execution_count": null,
   "id": "de6cb25c-e671-4bb6-aa4e-2a897ce951fc",
   "metadata": {},
   "outputs": [],
   "source": []
  }
 ],
 "metadata": {
  "kernelspec": {
   "display_name": "Python [conda env:base] *",
   "language": "python",
   "name": "conda-base-py"
  },
  "language_info": {
   "codemirror_mode": {
    "name": "ipython",
    "version": 3
   },
   "file_extension": ".py",
   "mimetype": "text/x-python",
   "name": "python",
   "nbconvert_exporter": "python",
   "pygments_lexer": "ipython3",
   "version": "3.12.7"
  }
 },
 "nbformat": 4,
 "nbformat_minor": 5
}
