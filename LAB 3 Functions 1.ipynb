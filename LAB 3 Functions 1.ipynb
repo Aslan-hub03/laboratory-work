{
 "cells": [
  {
   "cell_type": "code",
   "execution_count": 11,
   "id": "ea1dcabb-e789-4a0f-ab83-5d3b89abba72",
   "metadata": {},
   "outputs": [
    {
     "name": "stdout",
     "output_type": "stream",
     "text": [
      "5 grams is 0.18 ounces\n",
      "100°F is 37.78°C\n",
      "Farm puzzle solution: (12, 23)\n",
      "Prime numbers: [2, 3, 5, 11]\n",
      "Permutations: ['abc', 'acb', 'bac', 'bca', 'cab', 'cba']\n",
      "Reversed sentence: ready are We\n",
      "has_33([1, 3, 3]): True\n",
      "spy_game([1, 0, 2, 4, 0, 5, 7]): True\n",
      "Sphere volume for radius 3: 113.10\n",
      "Unique elements: [1, 2, 3, 4]\n",
      "Is 'madam' a palindrome? True\n",
      "Histogram for [4, 9, 7]:\n",
      "****\n",
      "*********\n",
      "*******\n"
     ]
    },
    {
     "name": "stdin",
     "output_type": "stream",
     "text": [
      "Hello! What is your name?\n",
      " asd\n"
     ]
    },
    {
     "name": "stdout",
     "output_type": "stream",
     "text": [
      "\n",
      "Well, asd, I am thinking of a number between 1 and 20.\n"
     ]
    },
    {
     "name": "stdin",
     "output_type": "stream",
     "text": [
      "\n",
      "Take a guess:  5\n"
     ]
    },
    {
     "name": "stdout",
     "output_type": "stream",
     "text": [
      "Your guess is too low.\n"
     ]
    },
    {
     "name": "stdin",
     "output_type": "stream",
     "text": [
      "\n",
      "Take a guess:  8\n"
     ]
    },
    {
     "name": "stdout",
     "output_type": "stream",
     "text": [
      "Your guess is too low.\n"
     ]
    },
    {
     "name": "stdin",
     "output_type": "stream",
     "text": [
      "\n",
      "Take a guess:  13\n"
     ]
    },
    {
     "name": "stdout",
     "output_type": "stream",
     "text": [
      "Your guess is too low.\n"
     ]
    },
    {
     "name": "stdin",
     "output_type": "stream",
     "text": [
      "\n",
      "Take a guess:  17\n"
     ]
    },
    {
     "name": "stdout",
     "output_type": "stream",
     "text": [
      "Your guess is too high.\n"
     ]
    },
    {
     "name": "stdin",
     "output_type": "stream",
     "text": [
      "\n",
      "Take a guess:  15\n"
     ]
    },
    {
     "name": "stdout",
     "output_type": "stream",
     "text": [
      "Good job, asd! You guessed my number in 5 guesses!\n"
     ]
    }
   ],
   "source": [
    "# 1. Convert grams to ounces\n",
    "def grams_to_ounces(grams):\n",
    "    return grams / 28.3495231\n",
    "\n",
    "print(f\"5 grams is {grams_to_ounces(5):.2f} ounces\")\n",
    "\n",
    "\n",
    "# 2. Convert Fahrenheit to Celsius\n",
    "def fahrenheit_to_celsius(fahrenheit):\n",
    "    return (5 / 9) * (fahrenheit - 32)\n",
    "\n",
    "print(f\"100°F is {fahrenheit_to_celsius(100):.2f}°C\")\n",
    "\n",
    "\n",
    "# 3. Solve the classic farm puzzle\n",
    "def solve(numheads, numlegs):\n",
    "    rabbits = numlegs // 4\n",
    "    chickens = numheads - rabbits\n",
    "    return chickens, rabbits\n",
    "\n",
    "print(f\"Farm puzzle solution: {solve(35, 94)}\")\n",
    "\n",
    "\n",
    "# 4. Filter prime numbers from a list\n",
    "def filter_prime(nums):\n",
    "    def is_prime(n):\n",
    "        if n < 2:\n",
    "            return False\n",
    "        for i in range(2, int(n ** 0.5) + 1):\n",
    "            if n % i == 0:\n",
    "                return False\n",
    "        return True\n",
    "\n",
    "    return [num for num in nums if is_prime(num)]\n",
    "\n",
    "print(f\"Prime numbers: {filter_prime([1, 2, 3, 4, 5, 11, 15])}\")\n",
    "\n",
    "\n",
    "# 5. Permutations of a string\n",
    "from itertools import permutations\n",
    "\n",
    "def string_permutations(string):\n",
    "    return [''.join(p) for p in permutations(string)]\n",
    "\n",
    "print(f\"Permutations: {string_permutations('abc')}\")\n",
    "\n",
    "\n",
    "# 6. Reverse the words in a string\n",
    "def reverse_words(sentence):\n",
    "    return ' '.join(sentence.split()[::-1])\n",
    "\n",
    "print(f\"Reversed sentence: {reverse_words('We are ready')}\")\n",
    "\n",
    "\n",
    "# 7. Check for a 3 next to a 3\n",
    "def has_33(nums):\n",
    "    for i in range(len(nums) - 1):\n",
    "        if nums[i] == 3 and nums[i + 1] == 3:\n",
    "            return True\n",
    "    return False\n",
    "\n",
    "print(f\"has_33([1, 3, 3]): {has_33([1, 3, 3])}\")\n",
    "\n",
    "\n",
    "# 8. Check if the list contains 007 in order\n",
    "def spy_game(nums):\n",
    "    code = [0, 0, 7]\n",
    "    for num in nums:\n",
    "        if code and num == code[0]:\n",
    "            code.pop(0)\n",
    "    return not code\n",
    "\n",
    "print(f\"spy_game([1, 0, 2, 4, 0, 5, 7]): {spy_game([1, 0, 2, 4, 0, 5, 7])}\")\n",
    "\n",
    "\n",
    "# 9. Compute the volume of a sphere given its radius\n",
    "import math\n",
    "\n",
    "def sphere_volume(radius):\n",
    "    return (4 / 3) * math.pi * (radius ** 3)\n",
    "\n",
    "print(f\"Sphere volume for radius 3: {sphere_volume(3):.2f}\")\n",
    "\n",
    "\n",
    "# 10. Return unique elements from a list\n",
    "def unique_elements(lst):\n",
    "    unique_list = []\n",
    "    for num in lst:\n",
    "        if num not in unique_list:\n",
    "            unique_list.append(num)\n",
    "    return unique_list\n",
    "\n",
    "print(f\"Unique elements: {unique_elements([1, 2, 2, 3, 3, 4])}\")\n",
    "\n",
    "\n",
    "# 11. Check if a word or phrase is a palindrome\n",
    "def is_palindrome(string):\n",
    "    clean_str = ''.join(char.lower() for char in string if char.isalnum())\n",
    "    return clean_str == clean_str[::-1]\n",
    "\n",
    "print(f\"Is 'madam' a palindrome? {is_palindrome('madam')}\")\n",
    "\n",
    "\n",
    "# 12. Histogram from a list of integers\n",
    "def histogram(lst):\n",
    "    for num in lst:\n",
    "        print('*' * num)\n",
    "\n",
    "print(\"Histogram for [4, 9, 7]:\")\n",
    "histogram([4, 9, 7])\n",
    "\n",
    "\n",
    "# 13. Guess the number game\n",
    "import random\n",
    "\n",
    "def guess_the_number_game():\n",
    "    name = input(\"Hello! What is your name?\\n\")\n",
    "    print(f\"\\nWell, {name}, I am thinking of a number between 1 and 20.\")\n",
    "    number_to_guess = random.randint(1, 20)\n",
    "    attempts = 0\n",
    "\n",
    "    while True:\n",
    "        guess = int(input(\"\\nTake a guess: \"))\n",
    "        attempts += 1\n",
    "\n",
    "        if guess < number_to_guess:\n",
    "            print(\"Your guess is too low.\")\n",
    "        elif guess > number_to_guess:\n",
    "            print(\"Your guess is too high.\")\n",
    "        else:\n",
    "            print(f\"Good job, {name}! You guessed my number in {attempts} guesses!\")\n",
    "            break\n",
    "\n",
    "# Запуск игры\n",
    "guess_the_number_game()\n"
   ]
  }
 ],
 "metadata": {
  "kernelspec": {
   "display_name": "Python [conda env:base] *",
   "language": "python",
   "name": "conda-base-py"
  },
  "language_info": {
   "codemirror_mode": {
    "name": "ipython",
    "version": 3
   },
   "file_extension": ".py",
   "mimetype": "text/x-python",
   "name": "python",
   "nbconvert_exporter": "python",
   "pygments_lexer": "ipython3",
   "version": "3.12.7"
  }
 },
 "nbformat": 4,
 "nbformat_minor": 5
}
